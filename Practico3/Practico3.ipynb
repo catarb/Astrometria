{
 "cells": [
  {
   "cell_type": "markdown",
   "id": "27ef85af-74ab-42aa-a91b-7afd9295af8f",
   "metadata": {},
   "source": [
    "###### Catalina Rodríguez Buss\n",
    "###### Astrometría 1\n",
    "\n",
    "## **Informe 3: Bases de Datos** "
   ]
  },
  {
   "cell_type": "markdown",
   "id": "3c230363-08a2-4e1a-be77-7b4eac306ef2",
   "metadata": {},
   "source": [
    "### **1.1. Introducción**"
   ]
  },
  {
   "cell_type": "markdown",
   "id": "0ced8a40-5bd9-4fe8-a42e-40698eebea84",
   "metadata": {},
   "source": [
    "Debido a que las nuevas tecnologías aportan cantidades significativas de datos, se hace imperiosa la necesidad de almacenar los mismos de manera que su acceso sea útil y eficiente. En general, la información de grandes relevamientos, simulaciones numéricas, etc. está organizada en *Bases de datos*. Uno de los paradigmas más utilizado para organizar bases de datos es el de la Base de datos Relacional. En este tipo de modelo la información se organiza en tablas, que se relacionan entre sí a partir de una propiedad de los datos. Cada tabla es un conjunto de registros. Existen programas o sistemas de gestión de bases de datos relacionales. Entre los mas conocidos, se destecan por ejemplo  MySQL, PostgreSQL, Oracle y Microsoft SQL Server."
   ]
  },
  {
   "cell_type": "markdown",
   "id": "f6cdd6da-49fc-4c16-a7de-1ea1091309fb",
   "metadata": {},
   "source": [
    "Finalmente, en este informe se busca generar una familiaridad con el uso de las bases de datos, para lograr extraer información, procesarla y analizarla, utilizando principios de probabilidad y estadística. "
   ]
  },
  {
   "cell_type": "markdown",
   "id": "8e3201de-a878-4ae5-899f-90f9901e90de",
   "metadata": {},
   "source": [
    "##### **1.2. Conceptos importantes**"
   ]
  },
  {
   "cell_type": "markdown",
   "id": "a5adfd40-d34b-41ad-a8df-47000e1efde6",
   "metadata": {},
   "source": [
    "Antes de comenzar con este informe, es importante tener algunos **conceptos básicos**:"
   ]
  },
  {
   "cell_type": "markdown",
   "id": "84b61150-9eb7-4427-90df-aaf9819302f7",
   "metadata": {},
   "source": [
    "**Base de datos:** Conjunto de datos pertenecientes a un mismo contexto y almacenados sistemáticamente para sus registros."
   ]
  },
  {
   "cell_type": "markdown",
   "id": "cea5b48f-4ff7-4c02-9e23-89eb66021a14",
   "metadata": {},
   "source": [
    "**Tabla:** Es un conjunto de datos con ciertas características en común. "
   ]
  },
  {
   "cell_type": "markdown",
   "id": "4f90b32e-3899-4827-acaa-ddf32df9c73d",
   "metadata": {},
   "source": [
    "**Registro:** Es un objeto único de datos implícitamente estructurados en una tabla. Corresponde a una fila en las tablas."
   ]
  },
  {
   "cell_type": "markdown",
   "id": "253fe005-a139-493f-b0d2-6c1458ac3a54",
   "metadata": {},
   "source": [
    "**Campo:** Es la mínima unidad de información a la que se puede acceder. Corresponde a una columna de una tabla. "
   ]
  },
  {
   "cell_type": "markdown",
   "id": "3bcda7a9-cbca-4a1a-a695-4e25c2a4da52",
   "metadata": {},
   "source": [
    "**Relación:** Vínculo entre los campos de distintas tablas. La información está organizada en tablas, pero se puede reunir utilizando vínculos.  "
   ]
  },
  {
   "cell_type": "markdown",
   "id": "245b2be5-0e69-4ae5-8f71-6707bebbf6ac",
   "metadata": {},
   "source": [
    "##### **1.3. Structured Query Language**"
   ]
  },
  {
   "cell_type": "markdown",
   "id": "7e5d303a-8972-4a1c-943d-6c554315fcbd",
   "metadata": {},
   "source": [
    "Por último, hace falta introducir el lenguaje que será utilizado: SQL (Structured Query Language). Es un lenguaje de dominio específico, diseñado para administrar, y recuperar información de sistemas de gestión de bases de datos relacionales. Una de sus principales características es el manejo del álgebra y el cálculo relacional para efectuar consultas con el fin de recuperar, de forma sensilla, información de bases de datos, así como realizar cambios en ellas. "
   ]
  },
  {
   "cell_type": "markdown",
   "id": "8820295e-c487-494b-b0be-766d646de133",
   "metadata": {},
   "source": [
    "Originalmente, SQL consiste en un lenguaje de definición, manipulación y control de datos. El alcance de SQL incluye la inserción de datos, consultas, analizaciones y borrado, la creación y modificación de esquemas y el control de acceso a los datos. "
   ]
  },
  {
   "cell_type": "markdown",
   "id": "6ac4ef6c-2ba2-4b83-a088-4614ba66386f",
   "metadata": {},
   "source": [
    "Luego, en este trabajo se utiliza SQL para obtener los datos de un catálogo de exoplanetas de la base de datos **exoplanet.eu**. "
   ]
  },
  {
   "cell_type": "markdown",
   "id": "3fa5f379-ac3d-4ade-a137-76d2cec4706f",
   "metadata": {},
   "source": [
    "### **2. Procedimiento**"
   ]
  },
  {
   "cell_type": "markdown",
   "id": "81c1f60b-4a82-4ca2-b853-5c1aacec9ff1",
   "metadata": {},
   "source": [
    "#### **2.1. Problema 6**"
   ]
  },
  {
   "cell_type": "markdown",
   "id": "6901218f-8637-4240-8413-522d4e9cf903",
   "metadata": {},
   "source": [
    "***Estudie la distribución de índices de masas y períodos orbitales para planetas descubiertos con diferentes técnicas observacionales. Determine si existe un sesgo en las propiedades de los exoplanetas en función del tipo de técnica utilizada.***"
   ]
  },
  {
   "cell_type": "markdown",
   "id": "c6e731d3-8603-46ec-a361-cbd25b9ef716",
   "metadata": {},
   "source": [
    "##### **2.1.2. Primer paso**"
   ]
  },
  {
   "cell_type": "markdown",
   "id": "ef3fb89e-e930-4d35-a174-7ed06e13eb01",
   "metadata": {},
   "source": [
    "El primer paso a realizar es ingresar al tutorial que ofrece la página de la base de datos, [exoplanet.eu](http://exoplanet.eu/API/), que detalla paso por paso cómo obtener los datos requeridos de los exoplanetas. Entonces, una vez instaladas todas las librerías que se necesitarán, se escribe un **query** con las propiedades deseadas: identificación del objeto, período, masa, tipo espectral y tipo de detección. "
   ]
  },
  {
   "cell_type": "code",
   "execution_count": 1,
   "id": "2aff32f2-7f03-4180-8f4c-dca96b11892e",
   "metadata": {},
   "outputs": [],
   "source": [
    "import numpy as np #se importan las librebrias necesarias\n",
    "import matplotlib.pyplot as plt\n",
    "import pyvo\n",
    "import pandas as pd \n",
    "import scipy.stats as sp\n",
    "# pip install scikit-learn \n",
    "# from sklearn.model_selection import train_test_split"
   ]
  },
  {
   "cell_type": "code",
   "execution_count": 2,
   "id": "3d16f1c5-bea5-4252-a040-52493edda913",
   "metadata": {},
   "outputs": [],
   "source": [
    "service = pyvo.dal.TAPService(\"http://voparis-tap-planeto.obspm.fr/tap\")"
   ]
  },
  {
   "cell_type": "code",
   "execution_count": 3,
   "id": "9f427b2a-383a-412d-87d7-bc87535253ff",
   "metadata": {},
   "outputs": [],
   "source": [
    "query = \"\"\"SELECT granule_uid,obs_id,period,mass,star_spec_type,detection_type \n",
    "FROM exoplanet.epn_core \n",
    "WHERE mass < 15 AND period>0 AND star_distance>0 \"\"\""
   ]
  },
  {
   "cell_type": "code",
   "execution_count": 4,
   "id": "1aa38633-07aa-4cf2-8704-c84302935769",
   "metadata": {},
   "outputs": [],
   "source": [
    "results = service.search(query)"
   ]
  },
  {
   "cell_type": "code",
   "execution_count": 5,
   "id": "c1a4ef47-e083-48e7-9715-f1419a3a688e",
   "metadata": {},
   "outputs": [
    {
     "data": {
      "text/plain": [
       "1150"
      ]
     },
     "execution_count": 5,
     "metadata": {},
     "output_type": "execute_result"
    }
   ],
   "source": [
    "len(results)  # cantidad de planetas"
   ]
  },
  {
   "cell_type": "code",
   "execution_count": 6,
   "id": "a21f9f5d-96bc-4de7-8c3e-fabb09ec1064",
   "metadata": {},
   "outputs": [
    {
     "data": {
      "text/plain": [
       "6"
      ]
     },
     "execution_count": 6,
     "metadata": {},
     "output_type": "execute_result"
    }
   ],
   "source": [
    "len(results[0]) # cantidad de columnas"
   ]
  },
  {
   "cell_type": "code",
   "execution_count": 7,
   "id": "e2e7de95-8e90-48fe-aa6e-f4ec230ee25c",
   "metadata": {},
   "outputs": [],
   "source": [
    "table=results.to_table() # se  transforma results en una tabla de astropy"
   ]
  },
  {
   "cell_type": "code",
   "execution_count": 8,
   "id": "989b1637-7c41-48ef-8a29-4aa2888838a3",
   "metadata": {},
   "outputs": [],
   "source": [
    "df=table.to_pandas() # se transforma table en un data frame de pandas"
   ]
  },
  {
   "cell_type": "code",
   "execution_count": 9,
   "id": "fe6eae8a-d922-4530-9abf-08ac8238f6cc",
   "metadata": {},
   "outputs": [
    {
     "data": {
      "text/html": [
       "<div>\n",
       "<style scoped>\n",
       "    .dataframe tbody tr th:only-of-type {\n",
       "        vertical-align: middle;\n",
       "    }\n",
       "\n",
       "    .dataframe tbody tr th {\n",
       "        vertical-align: top;\n",
       "    }\n",
       "\n",
       "    .dataframe thead th {\n",
       "        text-align: right;\n",
       "    }\n",
       "</style>\n",
       "<table border=\"1\" class=\"dataframe\">\n",
       "  <thead>\n",
       "    <tr style=\"text-align: right;\">\n",
       "      <th></th>\n",
       "      <th>granule_uid</th>\n",
       "      <th>obs_id</th>\n",
       "      <th>period</th>\n",
       "      <th>mass</th>\n",
       "      <th>star_spec_type</th>\n",
       "      <th>detection_type</th>\n",
       "    </tr>\n",
       "  </thead>\n",
       "  <tbody>\n",
       "    <tr>\n",
       "      <th>0</th>\n",
       "      <td>14 Her b</td>\n",
       "      <td>77</td>\n",
       "      <td>1763.300000</td>\n",
       "      <td>9.10000</td>\n",
       "      <td>K0 V</td>\n",
       "      <td>Radial Velocity</td>\n",
       "    </tr>\n",
       "    <tr>\n",
       "      <th>1</th>\n",
       "      <td>14 Her c</td>\n",
       "      <td>309</td>\n",
       "      <td>52596.000000</td>\n",
       "      <td>6.90000</td>\n",
       "      <td>K0 V</td>\n",
       "      <td>Radial Velocity</td>\n",
       "    </tr>\n",
       "    <tr>\n",
       "      <th>2</th>\n",
       "      <td>55 Cnc b</td>\n",
       "      <td>25</td>\n",
       "      <td>14.653140</td>\n",
       "      <td>0.84000</td>\n",
       "      <td>K0IV-V</td>\n",
       "      <td>Radial Velocity</td>\n",
       "    </tr>\n",
       "    <tr>\n",
       "      <th>3</th>\n",
       "      <td>51 Eri b</td>\n",
       "      <td>2428</td>\n",
       "      <td>10260.000000</td>\n",
       "      <td>2.60000</td>\n",
       "      <td>F0IV</td>\n",
       "      <td>Imaging</td>\n",
       "    </tr>\n",
       "    <tr>\n",
       "      <th>4</th>\n",
       "      <td>51 Peg b</td>\n",
       "      <td>12</td>\n",
       "      <td>4.230800</td>\n",
       "      <td>0.47000</td>\n",
       "      <td>G2 IV</td>\n",
       "      <td>Radial Velocity</td>\n",
       "    </tr>\n",
       "    <tr>\n",
       "      <th>...</th>\n",
       "      <td>...</td>\n",
       "      <td>...</td>\n",
       "      <td>...</td>\n",
       "      <td>...</td>\n",
       "      <td>...</td>\n",
       "      <td>...</td>\n",
       "    </tr>\n",
       "    <tr>\n",
       "      <th>1145</th>\n",
       "      <td>pi Men b</td>\n",
       "      <td>83</td>\n",
       "      <td>2088.330000</td>\n",
       "      <td>12.60000</td>\n",
       "      <td>G0V</td>\n",
       "      <td>Radial Velocity</td>\n",
       "    </tr>\n",
       "    <tr>\n",
       "      <th>1146</th>\n",
       "      <td>pi Men c</td>\n",
       "      <td>6825</td>\n",
       "      <td>6.267852</td>\n",
       "      <td>0.01142</td>\n",
       "      <td>G0V</td>\n",
       "      <td>Primary Transit</td>\n",
       "    </tr>\n",
       "    <tr>\n",
       "      <th>1147</th>\n",
       "      <td>tau Boo A b</td>\n",
       "      <td>7</td>\n",
       "      <td>3.312490</td>\n",
       "      <td>5.84000</td>\n",
       "      <td>F7 V</td>\n",
       "      <td>Radial Velocity</td>\n",
       "    </tr>\n",
       "    <tr>\n",
       "      <th>1148</th>\n",
       "      <td>ups And b</td>\n",
       "      <td>13</td>\n",
       "      <td>4.617110</td>\n",
       "      <td>0.62000</td>\n",
       "      <td>F8 V</td>\n",
       "      <td>Radial Velocity</td>\n",
       "    </tr>\n",
       "    <tr>\n",
       "      <th>1149</th>\n",
       "      <td>ups And c</td>\n",
       "      <td>14</td>\n",
       "      <td>240.937000</td>\n",
       "      <td>9.10000</td>\n",
       "      <td>F8 V</td>\n",
       "      <td>Radial Velocity</td>\n",
       "    </tr>\n",
       "  </tbody>\n",
       "</table>\n",
       "<p>1150 rows × 6 columns</p>\n",
       "</div>"
      ],
      "text/plain": [
       "      granule_uid obs_id        period      mass star_spec_type  \\\n",
       "0        14 Her b     77   1763.300000   9.10000           K0 V   \n",
       "1        14 Her c    309  52596.000000   6.90000           K0 V   \n",
       "2        55 Cnc b     25     14.653140   0.84000         K0IV-V   \n",
       "3        51 Eri b   2428  10260.000000   2.60000           F0IV   \n",
       "4        51 Peg b     12      4.230800   0.47000          G2 IV   \n",
       "...           ...    ...           ...       ...            ...   \n",
       "1145     pi Men b     83   2088.330000  12.60000            G0V   \n",
       "1146     pi Men c   6825      6.267852   0.01142            G0V   \n",
       "1147  tau Boo A b      7      3.312490   5.84000           F7 V   \n",
       "1148    ups And b     13      4.617110   0.62000           F8 V   \n",
       "1149    ups And c     14    240.937000   9.10000           F8 V   \n",
       "\n",
       "       detection_type  \n",
       "0     Radial Velocity  \n",
       "1     Radial Velocity  \n",
       "2     Radial Velocity  \n",
       "3             Imaging  \n",
       "4     Radial Velocity  \n",
       "...               ...  \n",
       "1145  Radial Velocity  \n",
       "1146  Primary Transit  \n",
       "1147  Radial Velocity  \n",
       "1148  Radial Velocity  \n",
       "1149  Radial Velocity  \n",
       "\n",
       "[1150 rows x 6 columns]"
      ]
     },
     "execution_count": 9,
     "metadata": {},
     "output_type": "execute_result"
    }
   ],
   "source": [
    "df # para visualizar el data frame"
   ]
  },
  {
   "cell_type": "code",
   "execution_count": 10,
   "id": "76dc0d79-f1e2-4946-8304-38364345b70d",
   "metadata": {},
   "outputs": [],
   "source": [
    "df.set_index(\"granule_uid\",inplace=True) #  granule_uid pasa a ser el nuevo índice"
   ]
  },
  {
   "cell_type": "markdown",
   "id": "2a2375fc-1f52-4c4a-957d-1f87a320977d",
   "metadata": {},
   "source": [
    "Finalmente, se obtiene el data frame de los datos de los exoplanetas."
   ]
  },
  {
   "cell_type": "code",
   "execution_count": 11,
   "id": "7ec906ec-cf28-48f8-87e1-e0260135f434",
   "metadata": {},
   "outputs": [
    {
     "data": {
      "text/html": [
       "<div>\n",
       "<style scoped>\n",
       "    .dataframe tbody tr th:only-of-type {\n",
       "        vertical-align: middle;\n",
       "    }\n",
       "\n",
       "    .dataframe tbody tr th {\n",
       "        vertical-align: top;\n",
       "    }\n",
       "\n",
       "    .dataframe thead th {\n",
       "        text-align: right;\n",
       "    }\n",
       "</style>\n",
       "<table border=\"1\" class=\"dataframe\">\n",
       "  <thead>\n",
       "    <tr style=\"text-align: right;\">\n",
       "      <th></th>\n",
       "      <th>obs_id</th>\n",
       "      <th>period</th>\n",
       "      <th>mass</th>\n",
       "      <th>star_spec_type</th>\n",
       "      <th>detection_type</th>\n",
       "    </tr>\n",
       "    <tr>\n",
       "      <th>granule_uid</th>\n",
       "      <th></th>\n",
       "      <th></th>\n",
       "      <th></th>\n",
       "      <th></th>\n",
       "      <th></th>\n",
       "    </tr>\n",
       "  </thead>\n",
       "  <tbody>\n",
       "    <tr>\n",
       "      <th>14 Her b</th>\n",
       "      <td>77</td>\n",
       "      <td>1763.300000</td>\n",
       "      <td>9.10000</td>\n",
       "      <td>K0 V</td>\n",
       "      <td>Radial Velocity</td>\n",
       "    </tr>\n",
       "    <tr>\n",
       "      <th>14 Her c</th>\n",
       "      <td>309</td>\n",
       "      <td>52596.000000</td>\n",
       "      <td>6.90000</td>\n",
       "      <td>K0 V</td>\n",
       "      <td>Radial Velocity</td>\n",
       "    </tr>\n",
       "    <tr>\n",
       "      <th>55 Cnc b</th>\n",
       "      <td>25</td>\n",
       "      <td>14.653140</td>\n",
       "      <td>0.84000</td>\n",
       "      <td>K0IV-V</td>\n",
       "      <td>Radial Velocity</td>\n",
       "    </tr>\n",
       "    <tr>\n",
       "      <th>51 Eri b</th>\n",
       "      <td>2428</td>\n",
       "      <td>10260.000000</td>\n",
       "      <td>2.60000</td>\n",
       "      <td>F0IV</td>\n",
       "      <td>Imaging</td>\n",
       "    </tr>\n",
       "    <tr>\n",
       "      <th>51 Peg b</th>\n",
       "      <td>12</td>\n",
       "      <td>4.230800</td>\n",
       "      <td>0.47000</td>\n",
       "      <td>G2 IV</td>\n",
       "      <td>Radial Velocity</td>\n",
       "    </tr>\n",
       "    <tr>\n",
       "      <th>...</th>\n",
       "      <td>...</td>\n",
       "      <td>...</td>\n",
       "      <td>...</td>\n",
       "      <td>...</td>\n",
       "      <td>...</td>\n",
       "    </tr>\n",
       "    <tr>\n",
       "      <th>pi Men b</th>\n",
       "      <td>83</td>\n",
       "      <td>2088.330000</td>\n",
       "      <td>12.60000</td>\n",
       "      <td>G0V</td>\n",
       "      <td>Radial Velocity</td>\n",
       "    </tr>\n",
       "    <tr>\n",
       "      <th>pi Men c</th>\n",
       "      <td>6825</td>\n",
       "      <td>6.267852</td>\n",
       "      <td>0.01142</td>\n",
       "      <td>G0V</td>\n",
       "      <td>Primary Transit</td>\n",
       "    </tr>\n",
       "    <tr>\n",
       "      <th>tau Boo A b</th>\n",
       "      <td>7</td>\n",
       "      <td>3.312490</td>\n",
       "      <td>5.84000</td>\n",
       "      <td>F7 V</td>\n",
       "      <td>Radial Velocity</td>\n",
       "    </tr>\n",
       "    <tr>\n",
       "      <th>ups And b</th>\n",
       "      <td>13</td>\n",
       "      <td>4.617110</td>\n",
       "      <td>0.62000</td>\n",
       "      <td>F8 V</td>\n",
       "      <td>Radial Velocity</td>\n",
       "    </tr>\n",
       "    <tr>\n",
       "      <th>ups And c</th>\n",
       "      <td>14</td>\n",
       "      <td>240.937000</td>\n",
       "      <td>9.10000</td>\n",
       "      <td>F8 V</td>\n",
       "      <td>Radial Velocity</td>\n",
       "    </tr>\n",
       "  </tbody>\n",
       "</table>\n",
       "<p>1150 rows × 5 columns</p>\n",
       "</div>"
      ],
      "text/plain": [
       "            obs_id        period      mass star_spec_type   detection_type\n",
       "granule_uid                                                               \n",
       "14 Her b        77   1763.300000   9.10000           K0 V  Radial Velocity\n",
       "14 Her c       309  52596.000000   6.90000           K0 V  Radial Velocity\n",
       "55 Cnc b        25     14.653140   0.84000         K0IV-V  Radial Velocity\n",
       "51 Eri b      2428  10260.000000   2.60000           F0IV          Imaging\n",
       "51 Peg b        12      4.230800   0.47000          G2 IV  Radial Velocity\n",
       "...            ...           ...       ...            ...              ...\n",
       "pi Men b        83   2088.330000  12.60000            G0V  Radial Velocity\n",
       "pi Men c      6825      6.267852   0.01142            G0V  Primary Transit\n",
       "tau Boo A b      7      3.312490   5.84000           F7 V  Radial Velocity\n",
       "ups And b       13      4.617110   0.62000           F8 V  Radial Velocity\n",
       "ups And c       14    240.937000   9.10000           F8 V  Radial Velocity\n",
       "\n",
       "[1150 rows x 5 columns]"
      ]
     },
     "execution_count": 11,
     "metadata": {},
     "output_type": "execute_result"
    }
   ],
   "source": [
    "df"
   ]
  },
  {
   "cell_type": "code",
   "execution_count": 12,
   "id": "c0a3aad2-fa02-4075-8349-4ac4912d995e",
   "metadata": {},
   "outputs": [],
   "source": [
    "df.to_csv(\"Exoplanetas.csv\") # se está guardando en el jupyter"
   ]
  },
  {
   "cell_type": "markdown",
   "id": "98b76b54-c4c4-4d1e-8b05-990d3623b6d1",
   "metadata": {},
   "source": [
    "##### **2.1.3. Segundo paso**"
   ]
  },
  {
   "cell_type": "markdown",
   "id": "59da3450-235e-430e-9d1b-e9f08dbe5d48",
   "metadata": {},
   "source": [
    "En segundo lugar, del data frame original se filtran los datos de los exoplanetas correspondientes a cada tipo de detección: velocidad radial, imágen, astrometría, otra, TTV, microlentes y pulsar.  Para ello, se utiliza el método ***loc***, que selecciona el conjunto de datos del df que se necesite. "
   ]
  },
  {
   "cell_type": "code",
   "execution_count": 13,
   "id": "f0170667-69d5-4d57-b4ec-ac3a10139ce5",
   "metadata": {},
   "outputs": [
    {
     "data": {
      "text/html": [
       "<div>\n",
       "<style scoped>\n",
       "    .dataframe tbody tr th:only-of-type {\n",
       "        vertical-align: middle;\n",
       "    }\n",
       "\n",
       "    .dataframe tbody tr th {\n",
       "        vertical-align: top;\n",
       "    }\n",
       "\n",
       "    .dataframe thead th {\n",
       "        text-align: right;\n",
       "    }\n",
       "</style>\n",
       "<table border=\"1\" class=\"dataframe\">\n",
       "  <thead>\n",
       "    <tr style=\"text-align: right;\">\n",
       "      <th></th>\n",
       "      <th>obs_id</th>\n",
       "      <th>period</th>\n",
       "      <th>mass</th>\n",
       "      <th>star_spec_type</th>\n",
       "      <th>detection_type</th>\n",
       "    </tr>\n",
       "    <tr>\n",
       "      <th>granule_uid</th>\n",
       "      <th></th>\n",
       "      <th></th>\n",
       "      <th></th>\n",
       "      <th></th>\n",
       "      <th></th>\n",
       "    </tr>\n",
       "  </thead>\n",
       "  <tbody>\n",
       "    <tr>\n",
       "      <th>14 Her b</th>\n",
       "      <td>77</td>\n",
       "      <td>1763.30000</td>\n",
       "      <td>9.10000</td>\n",
       "      <td>K0 V</td>\n",
       "      <td>Radial Velocity</td>\n",
       "    </tr>\n",
       "    <tr>\n",
       "      <th>14 Her c</th>\n",
       "      <td>309</td>\n",
       "      <td>52596.00000</td>\n",
       "      <td>6.90000</td>\n",
       "      <td>K0 V</td>\n",
       "      <td>Radial Velocity</td>\n",
       "    </tr>\n",
       "    <tr>\n",
       "      <th>55 Cnc b</th>\n",
       "      <td>25</td>\n",
       "      <td>14.65314</td>\n",
       "      <td>0.84000</td>\n",
       "      <td>K0IV-V</td>\n",
       "      <td>Radial Velocity</td>\n",
       "    </tr>\n",
       "    <tr>\n",
       "      <th>51 Peg b</th>\n",
       "      <td>12</td>\n",
       "      <td>4.23080</td>\n",
       "      <td>0.47000</td>\n",
       "      <td>G2 IV</td>\n",
       "      <td>Radial Velocity</td>\n",
       "    </tr>\n",
       "    <tr>\n",
       "      <th>CD Cet b</th>\n",
       "      <td>7415</td>\n",
       "      <td>2.29070</td>\n",
       "      <td>0.01244</td>\n",
       "      <td>M5.0</td>\n",
       "      <td>Radial Velocity</td>\n",
       "    </tr>\n",
       "    <tr>\n",
       "      <th>...</th>\n",
       "      <td>...</td>\n",
       "      <td>...</td>\n",
       "      <td>...</td>\n",
       "      <td>...</td>\n",
       "      <td>...</td>\n",
       "    </tr>\n",
       "    <tr>\n",
       "      <th>eps Ind A b</th>\n",
       "      <td>6731</td>\n",
       "      <td>16509.00000</td>\n",
       "      <td>3.25000</td>\n",
       "      <td>K2V</td>\n",
       "      <td>Radial Velocity</td>\n",
       "    </tr>\n",
       "    <tr>\n",
       "      <th>pi Men b</th>\n",
       "      <td>83</td>\n",
       "      <td>2088.33000</td>\n",
       "      <td>12.60000</td>\n",
       "      <td>G0V</td>\n",
       "      <td>Radial Velocity</td>\n",
       "    </tr>\n",
       "    <tr>\n",
       "      <th>tau Boo A b</th>\n",
       "      <td>7</td>\n",
       "      <td>3.31249</td>\n",
       "      <td>5.84000</td>\n",
       "      <td>F7 V</td>\n",
       "      <td>Radial Velocity</td>\n",
       "    </tr>\n",
       "    <tr>\n",
       "      <th>ups And b</th>\n",
       "      <td>13</td>\n",
       "      <td>4.61711</td>\n",
       "      <td>0.62000</td>\n",
       "      <td>F8 V</td>\n",
       "      <td>Radial Velocity</td>\n",
       "    </tr>\n",
       "    <tr>\n",
       "      <th>ups And c</th>\n",
       "      <td>14</td>\n",
       "      <td>240.93700</td>\n",
       "      <td>9.10000</td>\n",
       "      <td>F8 V</td>\n",
       "      <td>Radial Velocity</td>\n",
       "    </tr>\n",
       "  </tbody>\n",
       "</table>\n",
       "<p>65 rows × 5 columns</p>\n",
       "</div>"
      ],
      "text/plain": [
       "            obs_id       period      mass star_spec_type   detection_type\n",
       "granule_uid                                                              \n",
       "14 Her b        77   1763.30000   9.10000           K0 V  Radial Velocity\n",
       "14 Her c       309  52596.00000   6.90000           K0 V  Radial Velocity\n",
       "55 Cnc b        25     14.65314   0.84000         K0IV-V  Radial Velocity\n",
       "51 Peg b        12      4.23080   0.47000          G2 IV  Radial Velocity\n",
       "CD Cet b      7415      2.29070   0.01244           M5.0  Radial Velocity\n",
       "...            ...          ...       ...            ...              ...\n",
       "eps Ind A b   6731  16509.00000   3.25000            K2V  Radial Velocity\n",
       "pi Men b        83   2088.33000  12.60000            G0V  Radial Velocity\n",
       "tau Boo A b      7      3.31249   5.84000           F7 V  Radial Velocity\n",
       "ups And b       13      4.61711   0.62000           F8 V  Radial Velocity\n",
       "ups And c       14    240.93700   9.10000           F8 V  Radial Velocity\n",
       "\n",
       "[65 rows x 5 columns]"
      ]
     },
     "execution_count": 13,
     "metadata": {},
     "output_type": "execute_result"
    }
   ],
   "source": [
    "radial= df.loc[:,\"detection_type\"] == \"Radial Velocity\" # condición\n",
    "df_radial= df.loc[radial] # se le esta pidiendo que en data frame  localice esa condicion\n",
    "df_radial"
   ]
  },
  {
   "cell_type": "markdown",
   "id": "8bd6a6dd-3045-4738-bb7e-f1b3f6cf20d9",
   "metadata": {},
   "source": [
    "Análogamente, "
   ]
  },
  {
   "cell_type": "code",
   "execution_count": 14,
   "id": "2e57f004-0f9c-4ec1-94c0-f2d81a2fcd0a",
   "metadata": {},
   "outputs": [],
   "source": [
    "imaging= df.loc[:,\"detection_type\"] == \"Imaging\" # imagen directa\n",
    "df_imaging= df.loc[imaging] \n",
    "\n",
    "primarytransit= df.loc[:,\"detection_type\"] == \"Primary Transit\" \n",
    "df_primarytransit= df.loc[primarytransit] \n",
    "\n",
    "astrometry= df.loc[:,\"detection_type\"] == \"Astrometry\" \n",
    "df_astrometry= df.loc[astrometry] \n",
    "\n",
    "other= df.loc[:,\"detection_type\"] == \"Other\" \n",
    "df_other= df.loc[other] \n",
    "\n",
    "TTV= df.loc[:,\"detection_type\"] == \"TTV\" # tiempo de variacion de transito\n",
    "df_TTV= df.loc[TTV] \n",
    "\n",
    "microlensing= df.loc[:,\"detection_type\"] == \"Microlensing\" # micro lentes \n",
    "df_microlensing= df.loc[microlensing] \n",
    "\n",
    "pulsar= df.loc[:,\"detection_type\"] == \"Pulsar\" \n",
    "df_pulsar= df.loc[pulsar] "
   ]
  },
  {
   "cell_type": "markdown",
   "id": "cbe897de-240f-4e9a-9cae-7eae2da9d9c7",
   "metadata": {},
   "source": [
    "Para tener alguna representación de los datos, se hace un gráfico **Masa vs Período**, con todas las ténicas superpuestas."
   ]
  },
  {
   "cell_type": "code",
   "execution_count": 16,
   "id": "3a91d828-c4ea-4ff1-930f-d4eb904f6877",
   "metadata": {},
   "outputs": [
    {
     "data": {
      "image/png": "[encoded data removed]",
      "text/plain": [
       "<Figure size 864x360 with 1 Axes>"
      ]
     },
     "metadata": {
      "needs_background": "light"
     },
     "output_type": "display_data"
    }
   ],
   "source": [
    "plt.figure(figsize=(12,5))\n",
    "plt.plot(df_radial[\"mass\"],df_radial[\"period\"],'o', color='violet', ms=3, label='Velocidad radial')\n",
    "plt.plot(df_imaging[\"mass\"],df_imaging[\"period\"],'o', color='pink', ms= 3, label='Imágen')\n",
    "plt.plot(df_primarytransit[\"mass\"],df_primarytransit[\"period\"],'o', color='green', ms=3, label='Tránsito Primario')\n",
    "plt.plot(df_astrometry[\"mass\"],df_astrometry[\"period\"],'o', color='yellow', ms=3, label='Astrometría')\n",
    "plt.plot(df_other[\"mass\"],df_other[\"period\"],'o', color='red', ms=3, label='Otro')\n",
    "plt.plot(df_TTV[\"mass\"],df_TTV[\"period\"],'o', color='black', ms=3, label='TTV')\n",
    "plt.plot(df_microlensing[\"mass\"],df_microlensing[\"period\"],'o', color='orange', ms=3, label='Micro lente')\n",
    "plt.plot(df_pulsar[\"mass\"],df_pulsar[\"period\"],'o', color='brown', ms=3, label='Púlsar')\n",
    "plt.legend(loc='best', fontsize=10)\n",
    "plt.yscale('log')\n",
    "plt.xlabel(\"Período\")\n",
    "plt.ylabel(\"Masa\")\n",
    "plt.title(\"Masa vs Período\")\n",
    "plt.show()"
   ]
  },
  {
   "cell_type": "markdown",
   "id": "da973244-8a6b-4cad-902d-c70fe74c374c",
   "metadata": {},
   "source": [
    "##### **2.1.4. Tercer paso**"
   ]
  },
  {
   "cell_type": "markdown",
   "id": "87376a60-3bbf-4b0d-999a-d9d3914576f6",
   "metadata": {},
   "source": [
    "A continuación se realizan dos tipos de histogramas: uno con las masas y otro con los períodos, superponiendo en un mismo gráfico el histograma para cada técnica. De esta manera, al estar todos juntos, es posible determinar si hay algún sesgo en ellos. Es decir, si por ejemplo hay alguna técnica que favorece la detección de exoplanetas con alguna masa en particular. "
   ]
  },
  {
   "cell_type": "markdown",
   "id": "2484f12d-bb3a-4030-a1f5-1362bac3c9b9",
   "metadata": {},
   "source": [
    "**Histogramas con las masas**"
   ]
  },
  {
   "cell_type": "code",
   "execution_count": 17,
   "id": "020ef38f-b096-4246-a838-751582c86475",
   "metadata": {},
   "outputs": [
    {
     "data": {
      "image/png": "[encoded data removed]",
      "text/plain": [
       "<Figure size 720x360 with 1 Axes>"
      ]
     },
     "metadata": {
      "needs_background": "light"
     },
     "output_type": "display_data"
    }
   ],
   "source": [
    "plt.figure(figsize=(10,5))\n",
    "plt.hist(df_radial['mass'], bins= 'auto', density= True, histtype= 'step', label='Velocidad Radial', lw=2)\n",
    "plt.hist(df_imaging['mass'], bins= 'auto', density= True, histtype= 'step', label='Imágen', lw=2)\n",
    "plt.hist(df_primarytransit['mass'], bins= 'auto', density= True, histtype= 'step', label='Tránsito Primario', lw=2)\n",
    "plt.hist(df_astrometry['mass'], bins= 'auto', density= True, histtype= 'step', label='Astrometría', lw=2)\n",
    "plt.hist(df_other['mass'], bins= 'auto', density= True, histtype= 'step', label='Otro', lw=2)\n",
    "plt.hist(df_TTV['mass'], bins= 'auto', density= True, histtype= 'step', label='TTV', lw=2)\n",
    "plt.hist(df_microlensing['mass'], bins= 'auto', density= True, histtype= 'step', label='Micro lentes', lw=2)\n",
    "plt.hist(df_pulsar['mass'], bins= 'auto', density= True, histtype= 'step', label='Pulsar', lw=2)\n",
    "plt.legend(fontsize=12, loc='best')\n",
    "plt.xlabel('Masa')\n",
    "plt.ylabel('Frecuencia')\n",
    "plt.title('Distribución de las masas')\n",
    "plt.show()"
   ]
  },
  {
   "cell_type": "markdown",
   "id": "b65e854f-aa42-45bd-966f-4e453ce52398",
   "metadata": {},
   "source": [
    "**Histogramas con los períodos**"
   ]
  },
  {
   "cell_type": "code",
   "execution_count": 18,
   "id": "170fc0cc-3120-4de2-a31d-e92ed0d36a52",
   "metadata": {},
   "outputs": [
    {
     "data": {
      "image/png": "[encoded data removed]",
      "text/plain": [
       "<Figure size 720x360 with 1 Axes>"
      ]
     },
     "metadata": {
      "needs_background": "light"
     },
     "output_type": "display_data"
    }
   ],
   "source": [
    "plt.figure(figsize=(10,5))\n",
    "plt.hist(np.log(df_radial['period']), bins= 'auto', density= True, histtype= 'step', label='Velocidad Radial', lw=2)\n",
    "plt.hist(np.log(df_imaging['period']), bins= 'auto', density= True, histtype= 'step', label='Imágen', lw=2)\n",
    "plt.hist(np.log(df_primarytransit['period']), bins= 'auto', density= True, histtype= 'step', label='Tránsito Primario', lw=2)\n",
    "plt.hist(np.log(df_astrometry['period']), bins= 'auto', density= True, histtype= 'step', label='Astrometría', lw=2)\n",
    "plt.hist(np.log(df_other['period']), bins= 'auto', density= True, histtype= 'step', label='Otro', lw=2)\n",
    "plt.hist(np.log(df_TTV['period']), bins= 'auto', density= True, histtype= 'step', label='TTV', lw=2)\n",
    "plt.hist(np.log(df_microlensing['period']), bins= 'auto', density= True, histtype= 'step', label='Micro lentes', lw=2)\n",
    "plt.hist(np.log(df_pulsar['period']), bins= 'auto', density= True, histtype= 'step', label='Pulsar', lw=2)\n",
    "plt.legend(fontsize=12, loc='best')\n",
    "plt.xlabel('Período')\n",
    "plt.ylabel('Frecuencia')\n",
    "plt.title('Distribución de los períodos')\n",
    "plt.show()"
   ]
  },
  {
   "cell_type": "markdown",
   "id": "503004f8-9634-4856-8691-55053892a1fb",
   "metadata": {},
   "source": [
    "Haciendo un análisis visual de los histogramas, se puede ver que efectivamente existe algún tipo de sesgo en las propiedades de los exoplanetas según la técnica utilizada. Esto es notorio debido a que si no existieran sesgos, se esperaría que los histogramas para cada ténica  fueran muy parecidos entre sí. Sin embargo, se observa que cada ténica tiene su pico de distribución en diferentes masas  y períodos. Por ejemplo, por un lado, en el histograma de masas, es evidente que aquellos exoplanetas con masas más pequeñas son favorecidos a la hora de la detección mediante TTV, Otro y Tránsito Primario. Mientras que, por otro lado, en el histograma de los períodos se puede concluir rápidamente que la técnica por velocidad radial favorece notablemente a aquellos planetas con con masas entre 7 y 8, aproximadamente.  "
   ]
  },
  {
   "cell_type": "markdown",
   "id": "fb0f06d9-03ca-46a5-8f77-d67a2bc6e7f6",
   "metadata": {},
   "source": [
    "#### **2.2.1. Problema 7**"
   ]
  },
  {
   "cell_type": "markdown",
   "id": "57f5bf35-59a7-4f4f-9c6a-9ec8418086e9",
   "metadata": {},
   "source": [
    "***Estudie la distribución de distancias a las estrellas con exoplanetas y determine si la misma es consistente con una distribución gaussiana.***"
   ]
  },
  {
   "cell_type": "markdown",
   "id": "aee4efb0-1e4e-4d4f-87ad-9a053f4068b3",
   "metadata": {},
   "source": [
    "##### **2.2.2. Primer paso**"
   ]
  },
  {
   "cell_type": "markdown",
   "id": "36d80078-61f7-438e-beec-3b6379b82258",
   "metadata": {},
   "source": [
    "Análogamente al Problema 6, se obtiene el data frame con la información necesaria para este problema: la distancia de la estrella al planeta."
   ]
  },
  {
   "cell_type": "code",
   "execution_count": 19,
   "id": "a0d0947f-a205-467a-aed6-eb9e5edf783f",
   "metadata": {},
   "outputs": [],
   "source": [
    "query2 = \"\"\"SELECT semi_major_axis, granule_uid \n",
    "FROM exoplanet.epn_core \n",
    "WHERE mass < 15 AND period>0 AND star_distance>0 \"\"\""
   ]
  },
  {
   "cell_type": "code",
   "execution_count": 20,
   "id": "87f730fe-b395-4d32-9456-f84ade0b7401",
   "metadata": {},
   "outputs": [],
   "source": [
    "results2 = service.search(query2)"
   ]
  },
  {
   "cell_type": "code",
   "execution_count": 21,
   "id": "170a2813-378e-4365-9446-b7348f9cf255",
   "metadata": {},
   "outputs": [],
   "source": [
    "table2=results2.to_table()"
   ]
  },
  {
   "cell_type": "code",
   "execution_count": 22,
   "id": "7e9d6052-60e2-4ffa-99d4-44ac23471e3c",
   "metadata": {},
   "outputs": [],
   "source": [
    "df2=table2.to_pandas()"
   ]
  },
  {
   "cell_type": "code",
   "execution_count": 23,
   "id": "b114195e-8135-4d20-81e3-ab19e3424f15",
   "metadata": {},
   "outputs": [
    {
     "data": {
      "text/html": [
       "<div>\n",
       "<style scoped>\n",
       "    .dataframe tbody tr th:only-of-type {\n",
       "        vertical-align: middle;\n",
       "    }\n",
       "\n",
       "    .dataframe tbody tr th {\n",
       "        vertical-align: top;\n",
       "    }\n",
       "\n",
       "    .dataframe thead th {\n",
       "        text-align: right;\n",
       "    }\n",
       "</style>\n",
       "<table border=\"1\" class=\"dataframe\">\n",
       "  <thead>\n",
       "    <tr style=\"text-align: right;\">\n",
       "      <th></th>\n",
       "      <th>semi_major_axis</th>\n",
       "      <th>granule_uid</th>\n",
       "    </tr>\n",
       "  </thead>\n",
       "  <tbody>\n",
       "    <tr>\n",
       "      <th>0</th>\n",
       "      <td>2.84500</td>\n",
       "      <td>14 Her b</td>\n",
       "    </tr>\n",
       "    <tr>\n",
       "      <th>1</th>\n",
       "      <td>27.40000</td>\n",
       "      <td>14 Her c</td>\n",
       "    </tr>\n",
       "    <tr>\n",
       "      <th>2</th>\n",
       "      <td>0.11339</td>\n",
       "      <td>55 Cnc b</td>\n",
       "    </tr>\n",
       "    <tr>\n",
       "      <th>3</th>\n",
       "      <td>11.10000</td>\n",
       "      <td>51 Eri b</td>\n",
       "    </tr>\n",
       "    <tr>\n",
       "      <th>4</th>\n",
       "      <td>0.05200</td>\n",
       "      <td>51 Peg b</td>\n",
       "    </tr>\n",
       "    <tr>\n",
       "      <th>...</th>\n",
       "      <td>...</td>\n",
       "      <td>...</td>\n",
       "    </tr>\n",
       "    <tr>\n",
       "      <th>1145</th>\n",
       "      <td>3.30800</td>\n",
       "      <td>pi Men b</td>\n",
       "    </tr>\n",
       "    <tr>\n",
       "      <th>1146</th>\n",
       "      <td>0.06702</td>\n",
       "      <td>pi Men c</td>\n",
       "    </tr>\n",
       "    <tr>\n",
       "      <th>1147</th>\n",
       "      <td>0.04600</td>\n",
       "      <td>tau Boo A b</td>\n",
       "    </tr>\n",
       "    <tr>\n",
       "      <th>1148</th>\n",
       "      <td>0.05900</td>\n",
       "      <td>ups And b</td>\n",
       "    </tr>\n",
       "    <tr>\n",
       "      <th>1149</th>\n",
       "      <td>0.86100</td>\n",
       "      <td>ups And c</td>\n",
       "    </tr>\n",
       "  </tbody>\n",
       "</table>\n",
       "<p>1150 rows × 2 columns</p>\n",
       "</div>"
      ],
      "text/plain": [
       "      semi_major_axis  granule_uid\n",
       "0             2.84500     14 Her b\n",
       "1            27.40000     14 Her c\n",
       "2             0.11339     55 Cnc b\n",
       "3            11.10000     51 Eri b\n",
       "4             0.05200     51 Peg b\n",
       "...               ...          ...\n",
       "1145          3.30800     pi Men b\n",
       "1146          0.06702     pi Men c\n",
       "1147          0.04600  tau Boo A b\n",
       "1148          0.05900    ups And b\n",
       "1149          0.86100    ups And c\n",
       "\n",
       "[1150 rows x 2 columns]"
      ]
     },
     "execution_count": 23,
     "metadata": {},
     "output_type": "execute_result"
    }
   ],
   "source": [
    "df2"
   ]
  },
  {
   "cell_type": "code",
   "execution_count": 24,
   "id": "9f7d787e-be47-433a-82b5-a42e97494a74",
   "metadata": {},
   "outputs": [],
   "source": [
    "df2.set_index(\"granule_uid\",inplace=True)"
   ]
  },
  {
   "cell_type": "code",
   "execution_count": 25,
   "id": "04e1c255-2105-4847-aae1-8ddf5628bcac",
   "metadata": {},
   "outputs": [
    {
     "data": {
      "text/html": [
       "<div>\n",
       "<style scoped>\n",
       "    .dataframe tbody tr th:only-of-type {\n",
       "        vertical-align: middle;\n",
       "    }\n",
       "\n",
       "    .dataframe tbody tr th {\n",
       "        vertical-align: top;\n",
       "    }\n",
       "\n",
       "    .dataframe thead th {\n",
       "        text-align: right;\n",
       "    }\n",
       "</style>\n",
       "<table border=\"1\" class=\"dataframe\">\n",
       "  <thead>\n",
       "    <tr style=\"text-align: right;\">\n",
       "      <th></th>\n",
       "      <th>semi_major_axis</th>\n",
       "    </tr>\n",
       "    <tr>\n",
       "      <th>granule_uid</th>\n",
       "      <th></th>\n",
       "    </tr>\n",
       "  </thead>\n",
       "  <tbody>\n",
       "    <tr>\n",
       "      <th>14 Her b</th>\n",
       "      <td>2.84500</td>\n",
       "    </tr>\n",
       "    <tr>\n",
       "      <th>14 Her c</th>\n",
       "      <td>27.40000</td>\n",
       "    </tr>\n",
       "    <tr>\n",
       "      <th>55 Cnc b</th>\n",
       "      <td>0.11339</td>\n",
       "    </tr>\n",
       "    <tr>\n",
       "      <th>51 Eri b</th>\n",
       "      <td>11.10000</td>\n",
       "    </tr>\n",
       "    <tr>\n",
       "      <th>51 Peg b</th>\n",
       "      <td>0.05200</td>\n",
       "    </tr>\n",
       "    <tr>\n",
       "      <th>...</th>\n",
       "      <td>...</td>\n",
       "    </tr>\n",
       "    <tr>\n",
       "      <th>pi Men b</th>\n",
       "      <td>3.30800</td>\n",
       "    </tr>\n",
       "    <tr>\n",
       "      <th>pi Men c</th>\n",
       "      <td>0.06702</td>\n",
       "    </tr>\n",
       "    <tr>\n",
       "      <th>tau Boo A b</th>\n",
       "      <td>0.04600</td>\n",
       "    </tr>\n",
       "    <tr>\n",
       "      <th>ups And b</th>\n",
       "      <td>0.05900</td>\n",
       "    </tr>\n",
       "    <tr>\n",
       "      <th>ups And c</th>\n",
       "      <td>0.86100</td>\n",
       "    </tr>\n",
       "  </tbody>\n",
       "</table>\n",
       "<p>1150 rows × 1 columns</p>\n",
       "</div>"
      ],
      "text/plain": [
       "             semi_major_axis\n",
       "granule_uid                 \n",
       "14 Her b             2.84500\n",
       "14 Her c            27.40000\n",
       "55 Cnc b             0.11339\n",
       "51 Eri b            11.10000\n",
       "51 Peg b             0.05200\n",
       "...                      ...\n",
       "pi Men b             3.30800\n",
       "pi Men c             0.06702\n",
       "tau Boo A b          0.04600\n",
       "ups And b            0.05900\n",
       "ups And c            0.86100\n",
       "\n",
       "[1150 rows x 1 columns]"
      ]
     },
     "execution_count": 25,
     "metadata": {},
     "output_type": "execute_result"
    }
   ],
   "source": [
    "df2"
   ]
  },
  {
   "cell_type": "code",
   "execution_count": 26,
   "id": "23dbfbe2-e7eb-433f-962e-db5f62c81aeb",
   "metadata": {},
   "outputs": [],
   "source": [
    "tablafinal=pd.merge(left=df, right=df2, how='inner', on='granule_uid')"
   ]
  },
  {
   "cell_type": "code",
   "execution_count": 27,
   "id": "bcc50359-54ed-49e3-9588-391f7e5332be",
   "metadata": {},
   "outputs": [
    {
     "data": {
      "text/html": [
       "<div>\n",
       "<style scoped>\n",
       "    .dataframe tbody tr th:only-of-type {\n",
       "        vertical-align: middle;\n",
       "    }\n",
       "\n",
       "    .dataframe tbody tr th {\n",
       "        vertical-align: top;\n",
       "    }\n",
       "\n",
       "    .dataframe thead th {\n",
       "        text-align: right;\n",
       "    }\n",
       "</style>\n",
       "<table border=\"1\" class=\"dataframe\">\n",
       "  <thead>\n",
       "    <tr style=\"text-align: right;\">\n",
       "      <th></th>\n",
       "      <th>obs_id</th>\n",
       "      <th>period</th>\n",
       "      <th>mass</th>\n",
       "      <th>star_spec_type</th>\n",
       "      <th>detection_type</th>\n",
       "      <th>semi_major_axis</th>\n",
       "    </tr>\n",
       "    <tr>\n",
       "      <th>granule_uid</th>\n",
       "      <th></th>\n",
       "      <th></th>\n",
       "      <th></th>\n",
       "      <th></th>\n",
       "      <th></th>\n",
       "      <th></th>\n",
       "    </tr>\n",
       "  </thead>\n",
       "  <tbody>\n",
       "    <tr>\n",
       "      <th>14 Her b</th>\n",
       "      <td>77</td>\n",
       "      <td>1763.300000</td>\n",
       "      <td>9.10000</td>\n",
       "      <td>K0 V</td>\n",
       "      <td>Radial Velocity</td>\n",
       "      <td>2.84500</td>\n",
       "    </tr>\n",
       "    <tr>\n",
       "      <th>14 Her c</th>\n",
       "      <td>309</td>\n",
       "      <td>52596.000000</td>\n",
       "      <td>6.90000</td>\n",
       "      <td>K0 V</td>\n",
       "      <td>Radial Velocity</td>\n",
       "      <td>27.40000</td>\n",
       "    </tr>\n",
       "    <tr>\n",
       "      <th>55 Cnc b</th>\n",
       "      <td>25</td>\n",
       "      <td>14.653140</td>\n",
       "      <td>0.84000</td>\n",
       "      <td>K0IV-V</td>\n",
       "      <td>Radial Velocity</td>\n",
       "      <td>0.11339</td>\n",
       "    </tr>\n",
       "    <tr>\n",
       "      <th>51 Eri b</th>\n",
       "      <td>2428</td>\n",
       "      <td>10260.000000</td>\n",
       "      <td>2.60000</td>\n",
       "      <td>F0IV</td>\n",
       "      <td>Imaging</td>\n",
       "      <td>11.10000</td>\n",
       "    </tr>\n",
       "    <tr>\n",
       "      <th>51 Peg b</th>\n",
       "      <td>12</td>\n",
       "      <td>4.230800</td>\n",
       "      <td>0.47000</td>\n",
       "      <td>G2 IV</td>\n",
       "      <td>Radial Velocity</td>\n",
       "      <td>0.05200</td>\n",
       "    </tr>\n",
       "    <tr>\n",
       "      <th>...</th>\n",
       "      <td>...</td>\n",
       "      <td>...</td>\n",
       "      <td>...</td>\n",
       "      <td>...</td>\n",
       "      <td>...</td>\n",
       "      <td>...</td>\n",
       "    </tr>\n",
       "    <tr>\n",
       "      <th>pi Men b</th>\n",
       "      <td>83</td>\n",
       "      <td>2088.330000</td>\n",
       "      <td>12.60000</td>\n",
       "      <td>G0V</td>\n",
       "      <td>Radial Velocity</td>\n",
       "      <td>3.30800</td>\n",
       "    </tr>\n",
       "    <tr>\n",
       "      <th>pi Men c</th>\n",
       "      <td>6825</td>\n",
       "      <td>6.267852</td>\n",
       "      <td>0.01142</td>\n",
       "      <td>G0V</td>\n",
       "      <td>Primary Transit</td>\n",
       "      <td>0.06702</td>\n",
       "    </tr>\n",
       "    <tr>\n",
       "      <th>tau Boo A b</th>\n",
       "      <td>7</td>\n",
       "      <td>3.312490</td>\n",
       "      <td>5.84000</td>\n",
       "      <td>F7 V</td>\n",
       "      <td>Radial Velocity</td>\n",
       "      <td>0.04600</td>\n",
       "    </tr>\n",
       "    <tr>\n",
       "      <th>ups And b</th>\n",
       "      <td>13</td>\n",
       "      <td>4.617110</td>\n",
       "      <td>0.62000</td>\n",
       "      <td>F8 V</td>\n",
       "      <td>Radial Velocity</td>\n",
       "      <td>0.05900</td>\n",
       "    </tr>\n",
       "    <tr>\n",
       "      <th>ups And c</th>\n",
       "      <td>14</td>\n",
       "      <td>240.937000</td>\n",
       "      <td>9.10000</td>\n",
       "      <td>F8 V</td>\n",
       "      <td>Radial Velocity</td>\n",
       "      <td>0.86100</td>\n",
       "    </tr>\n",
       "  </tbody>\n",
       "</table>\n",
       "<p>1150 rows × 6 columns</p>\n",
       "</div>"
      ],
      "text/plain": [
       "            obs_id        period      mass star_spec_type   detection_type  \\\n",
       "granule_uid                                                                  \n",
       "14 Her b        77   1763.300000   9.10000           K0 V  Radial Velocity   \n",
       "14 Her c       309  52596.000000   6.90000           K0 V  Radial Velocity   \n",
       "55 Cnc b        25     14.653140   0.84000         K0IV-V  Radial Velocity   \n",
       "51 Eri b      2428  10260.000000   2.60000           F0IV          Imaging   \n",
       "51 Peg b        12      4.230800   0.47000          G2 IV  Radial Velocity   \n",
       "...            ...           ...       ...            ...              ...   \n",
       "pi Men b        83   2088.330000  12.60000            G0V  Radial Velocity   \n",
       "pi Men c      6825      6.267852   0.01142            G0V  Primary Transit   \n",
       "tau Boo A b      7      3.312490   5.84000           F7 V  Radial Velocity   \n",
       "ups And b       13      4.617110   0.62000           F8 V  Radial Velocity   \n",
       "ups And c       14    240.937000   9.10000           F8 V  Radial Velocity   \n",
       "\n",
       "             semi_major_axis  \n",
       "granule_uid                   \n",
       "14 Her b             2.84500  \n",
       "14 Her c            27.40000  \n",
       "55 Cnc b             0.11339  \n",
       "51 Eri b            11.10000  \n",
       "51 Peg b             0.05200  \n",
       "...                      ...  \n",
       "pi Men b             3.30800  \n",
       "pi Men c             0.06702  \n",
       "tau Boo A b          0.04600  \n",
       "ups And b            0.05900  \n",
       "ups And c            0.86100  \n",
       "\n",
       "[1150 rows x 6 columns]"
      ]
     },
     "execution_count": 27,
     "metadata": {},
     "output_type": "execute_result"
    }
   ],
   "source": [
    "tablafinal"
   ]
  },
  {
   "cell_type": "markdown",
   "id": "6040925b-df89-4a57-b7f4-1766a6906171",
   "metadata": {},
   "source": [
    "##### **2.2.3. Segundo paso**"
   ]
  },
  {
   "cell_type": "markdown",
   "id": "f088279b-c6ff-4201-a32f-e945c2759dd6",
   "metadata": {},
   "source": [
    "Se realiza un histograma para los datos obtenidos. Notar que el rango está restringido a [0,2] AU. Esto se debe a que si se toman todos los valores de la tabla, sin ninguna restricción, no se logra visualizar la distribución. Luego, hay que determinar si la distribución es consistente con una gaussiana. "
   ]
  },
  {
   "cell_type": "code",
   "execution_count": 28,
   "id": "b630fb26-771e-4a2d-966f-7831579232d9",
   "metadata": {},
   "outputs": [
    {
     "data": {
      "image/png": "[encoded data removed]",
      "text/plain": [
       "<Figure size 432x288 with 1 Axes>"
      ]
     },
     "metadata": {
      "needs_background": "light"
     },
     "output_type": "display_data"
    }
   ],
   "source": [
    "plt.hist(tablafinal['semi_major_axis'],range=[0,2], edgecolor='black',bins='auto', density=True, color='pink')\n",
    "plt.xlabel('Semieje mayor')\n",
    "plt.ylabel('Frecuencia')\n",
    "plt.title('Distribución')\n",
    "plt.show()"
   ]
  },
  {
   "cell_type": "markdown",
   "id": "946666b0-dd64-43a9-8d38-54168c7b748b",
   "metadata": {},
   "source": [
    "Como la variable semieje proviene de una distribución continua, para compararla con una distribución gaussiana se debe usar el KS Test. Para ello, se considera como hipótesis nula $H_0$ que ambas muestras provienen de la misma distribución y como hipótesis alternativa $H_a$ que ambas provienen de distribuciones diferentes. Luego, con el fin de encontrar el ***p-value*** se utiliza una función ya definida en scipy. "
   ]
  },
  {
   "cell_type": "code",
   "execution_count": 29,
   "id": "35848d4e-7d29-4d17-b3c5-f7344b42edf3",
   "metadata": {},
   "outputs": [],
   "source": [
    "xy= tablafinal['semi_major_axis'][(tablafinal['semi_major_axis']>0) & (tablafinal['semi_major_axis']<=2)] # se restringen los valores de la tabla"
   ]
  },
  {
   "cell_type": "code",
   "execution_count": 30,
   "id": "fc669f70-497f-4953-949f-7c78beb734f3",
   "metadata": {},
   "outputs": [
    {
     "data": {
      "text/plain": [
       "KstestResult(statistic=0.5017553403698662, pvalue=1.0258152160998686e-229)"
      ]
     },
     "execution_count": 30,
     "metadata": {},
     "output_type": "execute_result"
    }
   ],
   "source": [
    "sp.kstest(xy,'norm') # función "
   ]
  },
  {
   "cell_type": "markdown",
   "id": "2a249047-1821-4c7a-94a7-d4ef9260a8a7",
   "metadata": {},
   "source": [
    "Luego, como el p-value obtenido es muy cerano a 0, quiere decir que p siempre va a ser menor que cualquier $\\alpha$ (nivel de significancia) que se proponga. Por lo tanto, nunca se va a poder aceptar la hipótesis nula."
   ]
  },
  {
   "cell_type": "markdown",
   "id": "415235ca-bab6-4ac2-8e9b-bbb52a246483",
   "metadata": {},
   "source": [
    "#### **2.3.1. Problema 8**"
   ]
  },
  {
   "cell_type": "markdown",
   "id": "fb2ab522-9d2c-4e28-9fdd-f47d18aff2f4",
   "metadata": {},
   "source": [
    "***Grafique un gráfico de las masas y los radios de los planetas, proponga un modelo y realice un ajuste de ese modelo. Discuta el procedimiento para el ajuste del modelo.***"
   ]
  },
  {
   "cell_type": "markdown",
   "id": "b449795f-259c-4f0c-ac14-b1df4a724164",
   "metadata": {},
   "source": [
    "##### **2.3.2. Primer paso**"
   ]
  },
  {
   "cell_type": "markdown",
   "id": "5ac68f43-c31e-45a5-a08e-70d968fb333f",
   "metadata": {},
   "source": [
    "Análogamente a los problemas anteriores, lo primero que hay que hacer es seleccionar los datos que se quieren obtener de la tabla que se encuentra en la base de datos. Luego, estos serán los correspondientes a los radios de los exoplanetas."
   ]
  },
  {
   "cell_type": "code",
   "execution_count": 31,
   "id": "ece9d46b-a577-499d-95a7-988bf4754157",
   "metadata": {},
   "outputs": [],
   "source": [
    "query3 = \"\"\"SELECT radius, granule_uid \n",
    "FROM exoplanet.epn_core \n",
    "WHERE mass < 15 AND period>0 AND star_distance>0 \"\"\""
   ]
  },
  {
   "cell_type": "code",
   "execution_count": 32,
   "id": "fb8249c1-cedf-4d23-a2e3-62c23d4e6cf5",
   "metadata": {},
   "outputs": [],
   "source": [
    "results3 = service.search(query3)"
   ]
  },
  {
   "cell_type": "code",
   "execution_count": 33,
   "id": "331438ea-f26a-4328-9ed5-707134209e2f",
   "metadata": {},
   "outputs": [],
   "source": [
    "table3=results3.to_table()"
   ]
  },
  {
   "cell_type": "code",
   "execution_count": 34,
   "id": "98fe8d9d-59ef-442e-8f5c-e526e847e144",
   "metadata": {},
   "outputs": [],
   "source": [
    "df3=table3.to_pandas()"
   ]
  },
  {
   "cell_type": "code",
   "execution_count": 35,
   "id": "528bffe8-e562-4f1a-9741-5c4948b398a9",
   "metadata": {},
   "outputs": [
    {
     "data": {
      "text/html": [
       "<div>\n",
       "<style scoped>\n",
       "    .dataframe tbody tr th:only-of-type {\n",
       "        vertical-align: middle;\n",
       "    }\n",
       "\n",
       "    .dataframe tbody tr th {\n",
       "        vertical-align: top;\n",
       "    }\n",
       "\n",
       "    .dataframe thead th {\n",
       "        text-align: right;\n",
       "    }\n",
       "</style>\n",
       "<table border=\"1\" class=\"dataframe\">\n",
       "  <thead>\n",
       "    <tr style=\"text-align: right;\">\n",
       "      <th></th>\n",
       "      <th>radius</th>\n",
       "      <th>granule_uid</th>\n",
       "    </tr>\n",
       "  </thead>\n",
       "  <tbody>\n",
       "    <tr>\n",
       "      <th>0</th>\n",
       "      <td>NaN</td>\n",
       "      <td>14 Her b</td>\n",
       "    </tr>\n",
       "    <tr>\n",
       "      <th>1</th>\n",
       "      <td>NaN</td>\n",
       "      <td>14 Her c</td>\n",
       "    </tr>\n",
       "    <tr>\n",
       "      <th>2</th>\n",
       "      <td>NaN</td>\n",
       "      <td>55 Cnc b</td>\n",
       "    </tr>\n",
       "    <tr>\n",
       "      <th>3</th>\n",
       "      <td>1.11000</td>\n",
       "      <td>51 Eri b</td>\n",
       "    </tr>\n",
       "    <tr>\n",
       "      <th>4</th>\n",
       "      <td>1.90000</td>\n",
       "      <td>51 Peg b</td>\n",
       "    </tr>\n",
       "    <tr>\n",
       "      <th>...</th>\n",
       "      <td>...</td>\n",
       "      <td>...</td>\n",
       "    </tr>\n",
       "    <tr>\n",
       "      <th>1145</th>\n",
       "      <td>NaN</td>\n",
       "      <td>pi Men b</td>\n",
       "    </tr>\n",
       "    <tr>\n",
       "      <th>1146</th>\n",
       "      <td>0.16719</td>\n",
       "      <td>pi Men c</td>\n",
       "    </tr>\n",
       "    <tr>\n",
       "      <th>1147</th>\n",
       "      <td>1.06000</td>\n",
       "      <td>tau Boo A b</td>\n",
       "    </tr>\n",
       "    <tr>\n",
       "      <th>1148</th>\n",
       "      <td>NaN</td>\n",
       "      <td>ups And b</td>\n",
       "    </tr>\n",
       "    <tr>\n",
       "      <th>1149</th>\n",
       "      <td>NaN</td>\n",
       "      <td>ups And c</td>\n",
       "    </tr>\n",
       "  </tbody>\n",
       "</table>\n",
       "<p>1150 rows × 2 columns</p>\n",
       "</div>"
      ],
      "text/plain": [
       "       radius  granule_uid\n",
       "0         NaN     14 Her b\n",
       "1         NaN     14 Her c\n",
       "2         NaN     55 Cnc b\n",
       "3     1.11000     51 Eri b\n",
       "4     1.90000     51 Peg b\n",
       "...       ...          ...\n",
       "1145      NaN     pi Men b\n",
       "1146  0.16719     pi Men c\n",
       "1147  1.06000  tau Boo A b\n",
       "1148      NaN    ups And b\n",
       "1149      NaN    ups And c\n",
       "\n",
       "[1150 rows x 2 columns]"
      ]
     },
     "execution_count": 35,
     "metadata": {},
     "output_type": "execute_result"
    }
   ],
   "source": [
    "df3"
   ]
  },
  {
   "cell_type": "code",
   "execution_count": 36,
   "id": "0b94f34e-e948-4f68-9166-b0ac34e85a70",
   "metadata": {},
   "outputs": [],
   "source": [
    "df3.set_index(\"granule_uid\",inplace=True)"
   ]
  },
  {
   "cell_type": "code",
   "execution_count": 37,
   "id": "51864ad3-6313-401a-b2fb-321786207a0b",
   "metadata": {},
   "outputs": [
    {
     "data": {
      "text/html": [
       "<div>\n",
       "<style scoped>\n",
       "    .dataframe tbody tr th:only-of-type {\n",
       "        vertical-align: middle;\n",
       "    }\n",
       "\n",
       "    .dataframe tbody tr th {\n",
       "        vertical-align: top;\n",
       "    }\n",
       "\n",
       "    .dataframe thead th {\n",
       "        text-align: right;\n",
       "    }\n",
       "</style>\n",
       "<table border=\"1\" class=\"dataframe\">\n",
       "  <thead>\n",
       "    <tr style=\"text-align: right;\">\n",
       "      <th></th>\n",
       "      <th>radius</th>\n",
       "    </tr>\n",
       "    <tr>\n",
       "      <th>granule_uid</th>\n",
       "      <th></th>\n",
       "    </tr>\n",
       "  </thead>\n",
       "  <tbody>\n",
       "    <tr>\n",
       "      <th>14 Her b</th>\n",
       "      <td>NaN</td>\n",
       "    </tr>\n",
       "    <tr>\n",
       "      <th>14 Her c</th>\n",
       "      <td>NaN</td>\n",
       "    </tr>\n",
       "    <tr>\n",
       "      <th>55 Cnc b</th>\n",
       "      <td>NaN</td>\n",
       "    </tr>\n",
       "    <tr>\n",
       "      <th>51 Eri b</th>\n",
       "      <td>1.11000</td>\n",
       "    </tr>\n",
       "    <tr>\n",
       "      <th>51 Peg b</th>\n",
       "      <td>1.90000</td>\n",
       "    </tr>\n",
       "    <tr>\n",
       "      <th>...</th>\n",
       "      <td>...</td>\n",
       "    </tr>\n",
       "    <tr>\n",
       "      <th>pi Men b</th>\n",
       "      <td>NaN</td>\n",
       "    </tr>\n",
       "    <tr>\n",
       "      <th>pi Men c</th>\n",
       "      <td>0.16719</td>\n",
       "    </tr>\n",
       "    <tr>\n",
       "      <th>tau Boo A b</th>\n",
       "      <td>1.06000</td>\n",
       "    </tr>\n",
       "    <tr>\n",
       "      <th>ups And b</th>\n",
       "      <td>NaN</td>\n",
       "    </tr>\n",
       "    <tr>\n",
       "      <th>ups And c</th>\n",
       "      <td>NaN</td>\n",
       "    </tr>\n",
       "  </tbody>\n",
       "</table>\n",
       "<p>1150 rows × 1 columns</p>\n",
       "</div>"
      ],
      "text/plain": [
       "              radius\n",
       "granule_uid         \n",
       "14 Her b         NaN\n",
       "14 Her c         NaN\n",
       "55 Cnc b         NaN\n",
       "51 Eri b     1.11000\n",
       "51 Peg b     1.90000\n",
       "...              ...\n",
       "pi Men b         NaN\n",
       "pi Men c     0.16719\n",
       "tau Boo A b  1.06000\n",
       "ups And b        NaN\n",
       "ups And c        NaN\n",
       "\n",
       "[1150 rows x 1 columns]"
      ]
     },
     "execution_count": 37,
     "metadata": {},
     "output_type": "execute_result"
    }
   ],
   "source": [
    "df3"
   ]
  },
  {
   "cell_type": "code",
   "execution_count": 38,
   "id": "91f7b12c-50cf-4220-8e43-4cebc289e4a5",
   "metadata": {},
   "outputs": [],
   "source": [
    "tablafinal2=pd.merge(left=tablafinal, right=df3, how='inner', on='granule_uid')"
   ]
  },
  {
   "cell_type": "code",
   "execution_count": 39,
   "id": "2c51b738-c653-4636-9816-121a1ef4e84e",
   "metadata": {},
   "outputs": [
    {
     "data": {
      "text/html": [
       "<div>\n",
       "<style scoped>\n",
       "    .dataframe tbody tr th:only-of-type {\n",
       "        vertical-align: middle;\n",
       "    }\n",
       "\n",
       "    .dataframe tbody tr th {\n",
       "        vertical-align: top;\n",
       "    }\n",
       "\n",
       "    .dataframe thead th {\n",
       "        text-align: right;\n",
       "    }\n",
       "</style>\n",
       "<table border=\"1\" class=\"dataframe\">\n",
       "  <thead>\n",
       "    <tr style=\"text-align: right;\">\n",
       "      <th></th>\n",
       "      <th>obs_id</th>\n",
       "      <th>period</th>\n",
       "      <th>mass</th>\n",
       "      <th>star_spec_type</th>\n",
       "      <th>detection_type</th>\n",
       "      <th>semi_major_axis</th>\n",
       "      <th>radius</th>\n",
       "    </tr>\n",
       "    <tr>\n",
       "      <th>granule_uid</th>\n",
       "      <th></th>\n",
       "      <th></th>\n",
       "      <th></th>\n",
       "      <th></th>\n",
       "      <th></th>\n",
       "      <th></th>\n",
       "      <th></th>\n",
       "    </tr>\n",
       "  </thead>\n",
       "  <tbody>\n",
       "    <tr>\n",
       "      <th>14 Her b</th>\n",
       "      <td>77</td>\n",
       "      <td>1763.300000</td>\n",
       "      <td>9.10000</td>\n",
       "      <td>K0 V</td>\n",
       "      <td>Radial Velocity</td>\n",
       "      <td>2.84500</td>\n",
       "      <td>NaN</td>\n",
       "    </tr>\n",
       "    <tr>\n",
       "      <th>14 Her c</th>\n",
       "      <td>309</td>\n",
       "      <td>52596.000000</td>\n",
       "      <td>6.90000</td>\n",
       "      <td>K0 V</td>\n",
       "      <td>Radial Velocity</td>\n",
       "      <td>27.40000</td>\n",
       "      <td>NaN</td>\n",
       "    </tr>\n",
       "    <tr>\n",
       "      <th>55 Cnc b</th>\n",
       "      <td>25</td>\n",
       "      <td>14.653140</td>\n",
       "      <td>0.84000</td>\n",
       "      <td>K0IV-V</td>\n",
       "      <td>Radial Velocity</td>\n",
       "      <td>0.11339</td>\n",
       "      <td>NaN</td>\n",
       "    </tr>\n",
       "    <tr>\n",
       "      <th>51 Eri b</th>\n",
       "      <td>2428</td>\n",
       "      <td>10260.000000</td>\n",
       "      <td>2.60000</td>\n",
       "      <td>F0IV</td>\n",
       "      <td>Imaging</td>\n",
       "      <td>11.10000</td>\n",
       "      <td>1.11000</td>\n",
       "    </tr>\n",
       "    <tr>\n",
       "      <th>51 Peg b</th>\n",
       "      <td>12</td>\n",
       "      <td>4.230800</td>\n",
       "      <td>0.47000</td>\n",
       "      <td>G2 IV</td>\n",
       "      <td>Radial Velocity</td>\n",
       "      <td>0.05200</td>\n",
       "      <td>1.90000</td>\n",
       "    </tr>\n",
       "    <tr>\n",
       "      <th>...</th>\n",
       "      <td>...</td>\n",
       "      <td>...</td>\n",
       "      <td>...</td>\n",
       "      <td>...</td>\n",
       "      <td>...</td>\n",
       "      <td>...</td>\n",
       "      <td>...</td>\n",
       "    </tr>\n",
       "    <tr>\n",
       "      <th>pi Men b</th>\n",
       "      <td>83</td>\n",
       "      <td>2088.330000</td>\n",
       "      <td>12.60000</td>\n",
       "      <td>G0V</td>\n",
       "      <td>Radial Velocity</td>\n",
       "      <td>3.30800</td>\n",
       "      <td>NaN</td>\n",
       "    </tr>\n",
       "    <tr>\n",
       "      <th>pi Men c</th>\n",
       "      <td>6825</td>\n",
       "      <td>6.267852</td>\n",
       "      <td>0.01142</td>\n",
       "      <td>G0V</td>\n",
       "      <td>Primary Transit</td>\n",
       "      <td>0.06702</td>\n",
       "      <td>0.16719</td>\n",
       "    </tr>\n",
       "    <tr>\n",
       "      <th>tau Boo A b</th>\n",
       "      <td>7</td>\n",
       "      <td>3.312490</td>\n",
       "      <td>5.84000</td>\n",
       "      <td>F7 V</td>\n",
       "      <td>Radial Velocity</td>\n",
       "      <td>0.04600</td>\n",
       "      <td>1.06000</td>\n",
       "    </tr>\n",
       "    <tr>\n",
       "      <th>ups And b</th>\n",
       "      <td>13</td>\n",
       "      <td>4.617110</td>\n",
       "      <td>0.62000</td>\n",
       "      <td>F8 V</td>\n",
       "      <td>Radial Velocity</td>\n",
       "      <td>0.05900</td>\n",
       "      <td>NaN</td>\n",
       "    </tr>\n",
       "    <tr>\n",
       "      <th>ups And c</th>\n",
       "      <td>14</td>\n",
       "      <td>240.937000</td>\n",
       "      <td>9.10000</td>\n",
       "      <td>F8 V</td>\n",
       "      <td>Radial Velocity</td>\n",
       "      <td>0.86100</td>\n",
       "      <td>NaN</td>\n",
       "    </tr>\n",
       "  </tbody>\n",
       "</table>\n",
       "<p>1150 rows × 7 columns</p>\n",
       "</div>"
      ],
      "text/plain": [
       "            obs_id        period      mass star_spec_type   detection_type  \\\n",
       "granule_uid                                                                  \n",
       "14 Her b        77   1763.300000   9.10000           K0 V  Radial Velocity   \n",
       "14 Her c       309  52596.000000   6.90000           K0 V  Radial Velocity   \n",
       "55 Cnc b        25     14.653140   0.84000         K0IV-V  Radial Velocity   \n",
       "51 Eri b      2428  10260.000000   2.60000           F0IV          Imaging   \n",
       "51 Peg b        12      4.230800   0.47000          G2 IV  Radial Velocity   \n",
       "...            ...           ...       ...            ...              ...   \n",
       "pi Men b        83   2088.330000  12.60000            G0V  Radial Velocity   \n",
       "pi Men c      6825      6.267852   0.01142            G0V  Primary Transit   \n",
       "tau Boo A b      7      3.312490   5.84000           F7 V  Radial Velocity   \n",
       "ups And b       13      4.617110   0.62000           F8 V  Radial Velocity   \n",
       "ups And c       14    240.937000   9.10000           F8 V  Radial Velocity   \n",
       "\n",
       "             semi_major_axis   radius  \n",
       "granule_uid                            \n",
       "14 Her b             2.84500      NaN  \n",
       "14 Her c            27.40000      NaN  \n",
       "55 Cnc b             0.11339      NaN  \n",
       "51 Eri b            11.10000  1.11000  \n",
       "51 Peg b             0.05200  1.90000  \n",
       "...                      ...      ...  \n",
       "pi Men b             3.30800      NaN  \n",
       "pi Men c             0.06702  0.16719  \n",
       "tau Boo A b          0.04600  1.06000  \n",
       "ups And b            0.05900      NaN  \n",
       "ups And c            0.86100      NaN  \n",
       "\n",
       "[1150 rows x 7 columns]"
      ]
     },
     "execution_count": 39,
     "metadata": {},
     "output_type": "execute_result"
    }
   ],
   "source": [
    "tablafinal2"
   ]
  },
  {
   "cell_type": "code",
   "execution_count": 40,
   "id": "1accd8dd-98f9-4267-901e-68e23bac1cef",
   "metadata": {},
   "outputs": [],
   "source": [
    "tablafinal2.to_csv(\"Exoplanetas.csv\") # se está guardando en el jupyter"
   ]
  },
  {
   "cell_type": "markdown",
   "id": "a44d5b50-68d7-48db-a999-8c91b0ed4304",
   "metadata": {},
   "source": [
    "##### **2.3.4. Segundo paso**"
   ]
  },
  {
   "cell_type": "markdown",
   "id": "5edd51a9-6f64-4412-a3f3-aece6183d3f2",
   "metadata": {},
   "source": [
    "Lo primero a realizar es un gráfico masa vs radio para tener una primera muestra de la distribución de los datos."
   ]
  },
  {
   "cell_type": "code",
   "execution_count": 41,
   "id": "fc4c4101-9036-468c-8eba-c0dc015da5aa",
   "metadata": {},
   "outputs": [
    {
     "data": {
      "image/png": "[encoded data removed]",
      "text/plain": [
       "<Figure size 432x288 with 1 Axes>"
      ]
     },
     "metadata": {
      "needs_background": "light"
     },
     "output_type": "display_data"
    }
   ],
   "source": [
    "plt.plot(tablafinal2[\"mass\"],tablafinal2[\"radius\"],'o', color='violet', ms=2, label='Velocidad radial')\n",
    "plt.yscale('log')\n",
    "plt.xscale('log')\n",
    "plt.xlabel(\"$Log_{10}$(masa)\")\n",
    "plt.ylabel(\"$Log_{10}$(radio)\")\n",
    "plt.title(\"Masa vs Radio\")\n",
    "plt.grid()\n",
    "plt.show()"
   ]
  },
  {
   "cell_type": "markdown",
   "id": "74b8dce6-3fd6-4834-9603-c276b22fe341",
   "metadata": {},
   "source": [
    "##### **2.3.5. Tercer paso**"
   ]
  },
  {
   "cell_type": "markdown",
   "id": "5af146d2-c706-4dc7-a79d-796bafc6c316",
   "metadata": {},
   "source": [
    "Ahora, a las tablas de masa y radio se les va a sacar los datos que aparecen como no determinados. Luego, se van a terminar creando dos series que no van a tener la misma longitud. Entonces, haciendo el merge entre ambas tablas, se logrará que ambas tengan la misma longitud."
   ]
  },
  {
   "cell_type": "code",
   "execution_count": 42,
   "id": "6489bf0e-de9f-41f4-8638-b428fadaab65",
   "metadata": {},
   "outputs": [
    {
     "data": {
      "text/html": [
       "<div>\n",
       "<style scoped>\n",
       "    .dataframe tbody tr th:only-of-type {\n",
       "        vertical-align: middle;\n",
       "    }\n",
       "\n",
       "    .dataframe tbody tr th {\n",
       "        vertical-align: top;\n",
       "    }\n",
       "\n",
       "    .dataframe thead th {\n",
       "        text-align: right;\n",
       "    }\n",
       "</style>\n",
       "<table border=\"1\" class=\"dataframe\">\n",
       "  <thead>\n",
       "    <tr style=\"text-align: right;\">\n",
       "      <th></th>\n",
       "      <th>mass</th>\n",
       "      <th>radius</th>\n",
       "    </tr>\n",
       "    <tr>\n",
       "      <th>granule_uid</th>\n",
       "      <th></th>\n",
       "      <th></th>\n",
       "    </tr>\n",
       "  </thead>\n",
       "  <tbody>\n",
       "    <tr>\n",
       "      <th>51 Eri b</th>\n",
       "      <td>2.60000</td>\n",
       "      <td>1.11000</td>\n",
       "    </tr>\n",
       "    <tr>\n",
       "      <th>51 Peg b</th>\n",
       "      <td>0.47000</td>\n",
       "      <td>1.90000</td>\n",
       "    </tr>\n",
       "    <tr>\n",
       "      <th>55 Cnc e</th>\n",
       "      <td>0.02703</td>\n",
       "      <td>0.17370</td>\n",
       "    </tr>\n",
       "    <tr>\n",
       "      <th>AU Mic b</th>\n",
       "      <td>0.03680</td>\n",
       "      <td>0.39080</td>\n",
       "    </tr>\n",
       "    <tr>\n",
       "      <th>AU Mic c</th>\n",
       "      <td>0.06980</td>\n",
       "      <td>0.31310</td>\n",
       "    </tr>\n",
       "    <tr>\n",
       "      <th>...</th>\n",
       "      <td>...</td>\n",
       "      <td>...</td>\n",
       "    </tr>\n",
       "    <tr>\n",
       "      <th>beta Pic b</th>\n",
       "      <td>11.90000</td>\n",
       "      <td>1.65000</td>\n",
       "    </tr>\n",
       "    <tr>\n",
       "      <th>beta Pic c</th>\n",
       "      <td>8.89000</td>\n",
       "      <td>1.20000</td>\n",
       "    </tr>\n",
       "    <tr>\n",
       "      <th>kappa And b</th>\n",
       "      <td>13.00000</td>\n",
       "      <td>1.20000</td>\n",
       "    </tr>\n",
       "    <tr>\n",
       "      <th>pi Men c</th>\n",
       "      <td>0.01142</td>\n",
       "      <td>0.16719</td>\n",
       "    </tr>\n",
       "    <tr>\n",
       "      <th>tau Boo A b</th>\n",
       "      <td>5.84000</td>\n",
       "      <td>1.06000</td>\n",
       "    </tr>\n",
       "  </tbody>\n",
       "</table>\n",
       "<p>1052 rows × 2 columns</p>\n",
       "</div>"
      ],
      "text/plain": [
       "                 mass   radius\n",
       "granule_uid                   \n",
       "51 Eri b      2.60000  1.11000\n",
       "51 Peg b      0.47000  1.90000\n",
       "55 Cnc e      0.02703  0.17370\n",
       "AU Mic b      0.03680  0.39080\n",
       "AU Mic c      0.06980  0.31310\n",
       "...               ...      ...\n",
       "beta Pic b   11.90000  1.65000\n",
       "beta Pic c    8.89000  1.20000\n",
       "kappa And b  13.00000  1.20000\n",
       "pi Men c      0.01142  0.16719\n",
       "tau Boo A b   5.84000  1.06000\n",
       "\n",
       "[1052 rows x 2 columns]"
      ]
     },
     "execution_count": 42,
     "metadata": {},
     "output_type": "execute_result"
    }
   ],
   "source": [
    "x=tablafinal2[\"mass\"][~tablafinal2[\"mass\"].isna()]\n",
    "y=tablafinal2[\"radius\"][~tablafinal2[\"radius\"].isna()]\n",
    "\n",
    "tablafinal3=pd.merge(left=x, right=y, how='inner', on='granule_uid')\n",
    "tablafinal3"
   ]
  },
  {
   "cell_type": "markdown",
   "id": "2bb9555c-bbca-4159-8c27-cce8c332305d",
   "metadata": {},
   "source": [
    "Finalmente, se está en condiciones de proponer un ajuste lineal para el gráfico obtenido anteriormente. Para ello se va a utilizar el ajuste polyfit (orden 1) con los x e y definidos anteriormente. De esta manera, se van a lograr obtener los parámetros buscados para ajustar una recta: ***pendiente y ordenada al orígen***. "
   ]
  },
  {
   "cell_type": "markdown",
   "id": "518c3f9f-9f07-4715-a65b-01b90b855d0c",
   "metadata": {},
   "source": [
    "Notar que con este ajuste se consigue una relación entre la masa y el radio de la manera siguiente:"
   ]
  },
  {
   "cell_type": "markdown",
   "id": "ba2150c5-8941-4f78-b61a-7e4e63591653",
   "metadata": {},
   "source": [
    "$$ log_{10}(R)= a log_{10}(M) + b  $$"
   ]
  },
  {
   "cell_type": "markdown",
   "id": "7ee3e82f-3773-4f85-b317-8621f61989f3",
   "metadata": {},
   "source": [
    "Luego, pensando a la constante \"b\" como el logaritmo de otra constante c,"
   ]
  },
  {
   "cell_type": "markdown",
   "id": "8c87472e-7ed5-4fa7-8333-4b98f691e709",
   "metadata": {},
   "source": [
    "$$ b=log_{10}(c)$$"
   ]
  },
  {
   "cell_type": "markdown",
   "id": "6b5033e8-05ff-4ef3-85f8-0c145366a796",
   "metadata": {},
   "source": [
    "Y, utilizando propiedades del logaritmo, se puede llegar a la siguiente expresión final para el radio en función de la masa"
   ]
  },
  {
   "cell_type": "markdown",
   "id": "3f512b45-82e0-40a1-bf30-e33d414d8126",
   "metadata": {},
   "source": [
    "$$ R= cM^a$$"
   ]
  },
  {
   "cell_type": "markdown",
   "id": "4c0d0254-7eb0-47a2-8b62-ab3979a25514",
   "metadata": {},
   "source": [
    "Se prosigue a hacer el ajuste."
   ]
  },
  {
   "cell_type": "code",
   "execution_count": 43,
   "id": "4ac4eea3-15ca-43e2-9745-f5e696d37e8b",
   "metadata": {},
   "outputs": [],
   "source": [
    "ajustelineal = np.polyfit(np.log(tablafinal3['mass']),np.log(tablafinal3['radius']),1)  "
   ]
  },
  {
   "cell_type": "code",
   "execution_count": 44,
   "id": "d3e522bd-d0f1-49ca-a117-0cfd0ec39c83",
   "metadata": {},
   "outputs": [
    {
     "data": {
      "text/plain": [
       "array([ 0.37756088, -0.06170537])"
      ]
     },
     "execution_count": 44,
     "metadata": {},
     "output_type": "execute_result"
    }
   ],
   "source": [
    "ajustelineal # en primer lugar aparece la pendiente, y en segundo la o.o"
   ]
  },
  {
   "cell_type": "markdown",
   "id": "8a7be86d-827d-4b75-a5b2-7742e57fa101",
   "metadata": {},
   "source": [
    "Por último, resta graficar."
   ]
  },
  {
   "cell_type": "code",
   "execution_count": 45,
   "id": "1c6acda4-b61f-4f1d-ab57-cb236ba99407",
   "metadata": {},
   "outputs": [
    {
     "data": {
      "image/png": "[encoded data removed]",
      "text/plain": [
       "<Figure size 432x288 with 1 Axes>"
      ]
     },
     "metadata": {
      "needs_background": "light"
     },
     "output_type": "display_data"
    }
   ],
   "source": [
    "plt.plot(np.log(tablafinal2[\"mass\"]),np.log(tablafinal2[\"radius\"]),'o', color='violet', ms=2, label='Velocidad radial')\n",
    "plt.xlabel(\"Masa\")\n",
    "plt.ylabel(\"Radio\")\n",
    "plt.title(\"Ajuste lineal\")\n",
    "t=np.linspace(-9,3,50)\n",
    "plt.plot(t,ajustelineal[0]*t + ajustelineal[1], color='black', ms=2) # gráfico del ajuste lineal\n",
    "plt.grid()\n",
    "plt.show()"
   ]
  },
  {
   "cell_type": "markdown",
   "id": "8557a941-1cc8-4a8f-b37a-6a98fdc4b6e8",
   "metadata": {},
   "source": [
    "### **3. Conclusión**"
   ]
  },
  {
   "cell_type": "markdown",
   "id": "f4826624-8a10-45a1-9096-f61e7fad4ff1",
   "metadata": {},
   "source": [
    "Se puede concluir que SQL es muy útil a la hora de extraer datos de un sevidor, de exoplanetas en este caso. Incluso, permite la determinación en el query de qué datos de las tablas se quiere extraer. Luego, con el uso de Pandas y Scipy, estos datos pueden ser manipulados para obtener diferentes parámetros o incluso hacer ajustes lineales a los datos obtenidos."
   ]
  }
 ],
 "metadata": {
  "kernelspec": {
   "display_name": "Python 3 (ipykernel)",
   "language": "python",
   "name": "python3"
  },
  "language_info": {
   "codemirror_mode": {
    "name": "ipython",
    "version": 3
   },
   "file_extension": ".py",
   "mimetype": "text/x-python",
   "name": "python",
   "nbconvert_exporter": "python",
   "pygments_lexer": "ipython3",
   "version": "3.9.12"
  }
 },
 "nbformat": 4,
 "nbformat_minor": 5
}
